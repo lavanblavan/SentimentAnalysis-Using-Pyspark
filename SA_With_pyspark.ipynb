{
  "cells": [
    {
      "cell_type": "markdown",
      "metadata": {
        "id": "view-in-github",
        "colab_type": "text"
      },
      "source": [
        "<a href=\"https://colab.research.google.com/github/lavanblavan/SentimentAnalysis-Using-Pyspark/blob/main/SA_With_pyspark.ipynb\" target=\"_parent\"><img src=\"https://colab.research.google.com/assets/colab-badge.svg\" alt=\"Open In Colab\"/></a>"
      ]
    },
    {
      "cell_type": "markdown",
      "source": [
        "# **Setup**"
      ],
      "metadata": {
        "id": "cT1J4BeVR5O5"
      }
    },
    {
      "cell_type": "code",
      "execution_count": null,
      "metadata": {
        "colab": {
          "background_save": true,
          "base_uri": "https://localhost:8080/"
        },
        "id": "7TtjjUoNlFyB",
        "outputId": "a477fcfd-fbc1-4192-d74a-48319aa1b9c9"
      },
      "outputs": [
        {
          "name": "stdout",
          "output_type": "stream",
          "text": [
            "Requirement already satisfied: nltk in /usr/local/lib/python3.11/dist-packages (3.9.1)\n",
            "Requirement already satisfied: click in /usr/local/lib/python3.11/dist-packages (from nltk) (8.1.8)\n",
            "Requirement already satisfied: joblib in /usr/local/lib/python3.11/dist-packages (from nltk) (1.4.2)\n",
            "Requirement already satisfied: regex>=2021.8.3 in /usr/local/lib/python3.11/dist-packages (from nltk) (2024.11.6)\n",
            "Requirement already satisfied: tqdm in /usr/local/lib/python3.11/dist-packages (from nltk) (4.67.1)\n",
            "Requirement already satisfied: spacy in /usr/local/lib/python3.11/dist-packages (3.7.5)\n",
            "Requirement already satisfied: spacy-legacy<3.1.0,>=3.0.11 in /usr/local/lib/python3.11/dist-packages (from spacy) (3.0.12)\n",
            "Requirement already satisfied: spacy-loggers<2.0.0,>=1.0.0 in /usr/local/lib/python3.11/dist-packages (from spacy) (1.0.5)\n",
            "Requirement already satisfied: murmurhash<1.1.0,>=0.28.0 in /usr/local/lib/python3.11/dist-packages (from spacy) (1.0.12)\n",
            "Requirement already satisfied: cymem<2.1.0,>=2.0.2 in /usr/local/lib/python3.11/dist-packages (from spacy) (2.0.11)\n",
            "Requirement already satisfied: preshed<3.1.0,>=3.0.2 in /usr/local/lib/python3.11/dist-packages (from spacy) (3.0.9)\n",
            "Requirement already satisfied: thinc<8.3.0,>=8.2.2 in /usr/local/lib/python3.11/dist-packages (from spacy) (8.2.5)\n",
            "Requirement already satisfied: wasabi<1.2.0,>=0.9.1 in /usr/local/lib/python3.11/dist-packages (from spacy) (1.1.3)\n",
            "Requirement already satisfied: srsly<3.0.0,>=2.4.3 in /usr/local/lib/python3.11/dist-packages (from spacy) (2.5.1)\n",
            "Requirement already satisfied: catalogue<2.1.0,>=2.0.6 in /usr/local/lib/python3.11/dist-packages (from spacy) (2.0.10)\n",
            "Requirement already satisfied: weasel<0.5.0,>=0.1.0 in /usr/local/lib/python3.11/dist-packages (from spacy) (0.4.1)\n",
            "Requirement already satisfied: typer<1.0.0,>=0.3.0 in /usr/local/lib/python3.11/dist-packages (from spacy) (0.15.2)\n",
            "Requirement already satisfied: tqdm<5.0.0,>=4.38.0 in /usr/local/lib/python3.11/dist-packages (from spacy) (4.67.1)\n",
            "Requirement already satisfied: requests<3.0.0,>=2.13.0 in /usr/local/lib/python3.11/dist-packages (from spacy) (2.32.3)\n",
            "Requirement already satisfied: pydantic!=1.8,!=1.8.1,<3.0.0,>=1.7.4 in /usr/local/lib/python3.11/dist-packages (from spacy) (2.10.6)\n",
            "Requirement already satisfied: jinja2 in /usr/local/lib/python3.11/dist-packages (from spacy) (3.1.6)\n",
            "Requirement already satisfied: setuptools in /usr/local/lib/python3.11/dist-packages (from spacy) (75.1.0)\n",
            "Requirement already satisfied: packaging>=20.0 in /usr/local/lib/python3.11/dist-packages (from spacy) (24.2)\n",
            "Requirement already satisfied: langcodes<4.0.0,>=3.2.0 in /usr/local/lib/python3.11/dist-packages (from spacy) (3.5.0)\n",
            "Requirement already satisfied: numpy>=1.19.0 in /usr/local/lib/python3.11/dist-packages (from spacy) (1.26.4)\n",
            "Requirement already satisfied: language-data>=1.2 in /usr/local/lib/python3.11/dist-packages (from langcodes<4.0.0,>=3.2.0->spacy) (1.3.0)\n",
            "Requirement already satisfied: annotated-types>=0.6.0 in /usr/local/lib/python3.11/dist-packages (from pydantic!=1.8,!=1.8.1,<3.0.0,>=1.7.4->spacy) (0.7.0)\n",
            "Requirement already satisfied: pydantic-core==2.27.2 in /usr/local/lib/python3.11/dist-packages (from pydantic!=1.8,!=1.8.1,<3.0.0,>=1.7.4->spacy) (2.27.2)\n",
            "Requirement already satisfied: typing-extensions>=4.12.2 in /usr/local/lib/python3.11/dist-packages (from pydantic!=1.8,!=1.8.1,<3.0.0,>=1.7.4->spacy) (4.12.2)\n",
            "Requirement already satisfied: charset-normalizer<4,>=2 in /usr/local/lib/python3.11/dist-packages (from requests<3.0.0,>=2.13.0->spacy) (3.4.1)\n",
            "Requirement already satisfied: idna<4,>=2.5 in /usr/local/lib/python3.11/dist-packages (from requests<3.0.0,>=2.13.0->spacy) (3.10)\n",
            "Requirement already satisfied: urllib3<3,>=1.21.1 in /usr/local/lib/python3.11/dist-packages (from requests<3.0.0,>=2.13.0->spacy) (2.3.0)\n",
            "Requirement already satisfied: certifi>=2017.4.17 in /usr/local/lib/python3.11/dist-packages (from requests<3.0.0,>=2.13.0->spacy) (2025.1.31)\n",
            "Requirement already satisfied: blis<0.8.0,>=0.7.8 in /usr/local/lib/python3.11/dist-packages (from thinc<8.3.0,>=8.2.2->spacy) (0.7.11)\n",
            "Requirement already satisfied: confection<1.0.0,>=0.0.1 in /usr/local/lib/python3.11/dist-packages (from thinc<8.3.0,>=8.2.2->spacy) (0.1.5)\n",
            "Requirement already satisfied: click>=8.0.0 in /usr/local/lib/python3.11/dist-packages (from typer<1.0.0,>=0.3.0->spacy) (8.1.8)\n",
            "Requirement already satisfied: shellingham>=1.3.0 in /usr/local/lib/python3.11/dist-packages (from typer<1.0.0,>=0.3.0->spacy) (1.5.4)\n",
            "Requirement already satisfied: rich>=10.11.0 in /usr/local/lib/python3.11/dist-packages (from typer<1.0.0,>=0.3.0->spacy) (13.9.4)\n",
            "Requirement already satisfied: cloudpathlib<1.0.0,>=0.7.0 in /usr/local/lib/python3.11/dist-packages (from weasel<0.5.0,>=0.1.0->spacy) (0.21.0)\n",
            "Requirement already satisfied: smart-open<8.0.0,>=5.2.1 in /usr/local/lib/python3.11/dist-packages (from weasel<0.5.0,>=0.1.0->spacy) (7.1.0)\n",
            "Requirement already satisfied: MarkupSafe>=2.0 in /usr/local/lib/python3.11/dist-packages (from jinja2->spacy) (3.0.2)\n",
            "Requirement already satisfied: marisa-trie>=1.1.0 in /usr/local/lib/python3.11/dist-packages (from language-data>=1.2->langcodes<4.0.0,>=3.2.0->spacy) (1.2.1)\n",
            "Requirement already satisfied: markdown-it-py>=2.2.0 in /usr/local/lib/python3.11/dist-packages (from rich>=10.11.0->typer<1.0.0,>=0.3.0->spacy) (3.0.0)\n",
            "Requirement already satisfied: pygments<3.0.0,>=2.13.0 in /usr/local/lib/python3.11/dist-packages (from rich>=10.11.0->typer<1.0.0,>=0.3.0->spacy) (2.18.0)\n",
            "Requirement already satisfied: wrapt in /usr/local/lib/python3.11/dist-packages (from smart-open<8.0.0,>=5.2.1->weasel<0.5.0,>=0.1.0->spacy) (1.17.2)\n",
            "Requirement already satisfied: mdurl~=0.1 in /usr/local/lib/python3.11/dist-packages (from markdown-it-py>=2.2.0->rich>=10.11.0->typer<1.0.0,>=0.3.0->spacy) (0.1.2)\n",
            "Requirement already satisfied: pyspark in /usr/local/lib/python3.11/dist-packages (3.5.5)\n",
            "Requirement already satisfied: py4j in /usr/local/lib/python3.11/dist-packages (0.10.9.7)\n",
            "Requirement already satisfied: pyspark in /usr/local/lib/python3.11/dist-packages (3.5.5)\n",
            "Requirement already satisfied: transformers in /usr/local/lib/python3.11/dist-packages (4.48.3)\n",
            "Requirement already satisfied: torch in /usr/local/lib/python3.11/dist-packages (2.5.1+cu124)\n",
            "Requirement already satisfied: py4j==0.10.9.7 in /usr/local/lib/python3.11/dist-packages (from pyspark) (0.10.9.7)\n",
            "Requirement already satisfied: filelock in /usr/local/lib/python3.11/dist-packages (from transformers) (3.17.0)\n",
            "Requirement already satisfied: huggingface-hub<1.0,>=0.24.0 in /usr/local/lib/python3.11/dist-packages (from transformers) (0.28.1)\n",
            "Requirement already satisfied: numpy>=1.17 in /usr/local/lib/python3.11/dist-packages (from transformers) (1.26.4)\n",
            "Requirement already satisfied: packaging>=20.0 in /usr/local/lib/python3.11/dist-packages (from transformers) (24.2)\n",
            "Requirement already satisfied: pyyaml>=5.1 in /usr/local/lib/python3.11/dist-packages (from transformers) (6.0.2)\n",
            "Requirement already satisfied: regex!=2019.12.17 in /usr/local/lib/python3.11/dist-packages (from transformers) (2024.11.6)\n",
            "Requirement already satisfied: requests in /usr/local/lib/python3.11/dist-packages (from transformers) (2.32.3)\n",
            "Requirement already satisfied: tokenizers<0.22,>=0.21 in /usr/local/lib/python3.11/dist-packages (from transformers) (0.21.0)\n",
            "Requirement already satisfied: safetensors>=0.4.1 in /usr/local/lib/python3.11/dist-packages (from transformers) (0.5.3)\n",
            "Requirement already satisfied: tqdm>=4.27 in /usr/local/lib/python3.11/dist-packages (from transformers) (4.67.1)\n",
            "Requirement already satisfied: typing-extensions>=4.8.0 in /usr/local/lib/python3.11/dist-packages (from torch) (4.12.2)\n",
            "Requirement already satisfied: networkx in /usr/local/lib/python3.11/dist-packages (from torch) (3.4.2)\n",
            "Requirement already satisfied: jinja2 in /usr/local/lib/python3.11/dist-packages (from torch) (3.1.6)\n",
            "Requirement already satisfied: fsspec in /usr/local/lib/python3.11/dist-packages (from torch) (2024.10.0)\n",
            "Collecting nvidia-cuda-nvrtc-cu12==12.4.127 (from torch)\n",
            "  Downloading nvidia_cuda_nvrtc_cu12-12.4.127-py3-none-manylinux2014_x86_64.whl.metadata (1.5 kB)\n",
            "Collecting nvidia-cuda-runtime-cu12==12.4.127 (from torch)\n",
            "  Downloading nvidia_cuda_runtime_cu12-12.4.127-py3-none-manylinux2014_x86_64.whl.metadata (1.5 kB)\n",
            "Collecting nvidia-cuda-cupti-cu12==12.4.127 (from torch)\n",
            "  Downloading nvidia_cuda_cupti_cu12-12.4.127-py3-none-manylinux2014_x86_64.whl.metadata (1.6 kB)\n",
            "Collecting nvidia-cudnn-cu12==9.1.0.70 (from torch)\n",
            "  Downloading nvidia_cudnn_cu12-9.1.0.70-py3-none-manylinux2014_x86_64.whl.metadata (1.6 kB)\n",
            "Collecting nvidia-cublas-cu12==12.4.5.8 (from torch)\n",
            "  Downloading nvidia_cublas_cu12-12.4.5.8-py3-none-manylinux2014_x86_64.whl.metadata (1.5 kB)\n",
            "Collecting nvidia-cufft-cu12==11.2.1.3 (from torch)\n",
            "  Downloading nvidia_cufft_cu12-11.2.1.3-py3-none-manylinux2014_x86_64.whl.metadata (1.5 kB)\n",
            "Collecting nvidia-curand-cu12==10.3.5.147 (from torch)\n",
            "  Downloading nvidia_curand_cu12-10.3.5.147-py3-none-manylinux2014_x86_64.whl.metadata (1.5 kB)\n",
            "Collecting nvidia-cusolver-cu12==11.6.1.9 (from torch)\n",
            "  Downloading nvidia_cusolver_cu12-11.6.1.9-py3-none-manylinux2014_x86_64.whl.metadata (1.6 kB)\n",
            "Collecting nvidia-cusparse-cu12==12.3.1.170 (from torch)\n",
            "  Downloading nvidia_cusparse_cu12-12.3.1.170-py3-none-manylinux2014_x86_64.whl.metadata (1.6 kB)\n",
            "Requirement already satisfied: nvidia-nccl-cu12==2.21.5 in /usr/local/lib/python3.11/dist-packages (from torch) (2.21.5)\n",
            "Requirement already satisfied: nvidia-nvtx-cu12==12.4.127 in /usr/local/lib/python3.11/dist-packages (from torch) (12.4.127)\n",
            "Collecting nvidia-nvjitlink-cu12==12.4.127 (from torch)\n",
            "  Downloading nvidia_nvjitlink_cu12-12.4.127-py3-none-manylinux2014_x86_64.whl.metadata (1.5 kB)\n",
            "Requirement already satisfied: triton==3.1.0 in /usr/local/lib/python3.11/dist-packages (from torch) (3.1.0)\n",
            "Requirement already satisfied: sympy==1.13.1 in /usr/local/lib/python3.11/dist-packages (from torch) (1.13.1)\n",
            "Requirement already satisfied: mpmath<1.4,>=1.1.0 in /usr/local/lib/python3.11/dist-packages (from sympy==1.13.1->torch) (1.3.0)\n",
            "Requirement already satisfied: MarkupSafe>=2.0 in /usr/local/lib/python3.11/dist-packages (from jinja2->torch) (3.0.2)\n",
            "Requirement already satisfied: charset-normalizer<4,>=2 in /usr/local/lib/python3.11/dist-packages (from requests->transformers) (3.4.1)\n",
            "Requirement already satisfied: idna<4,>=2.5 in /usr/local/lib/python3.11/dist-packages (from requests->transformers) (3.10)\n",
            "Requirement already satisfied: urllib3<3,>=1.21.1 in /usr/local/lib/python3.11/dist-packages (from requests->transformers) (2.3.0)\n",
            "Requirement already satisfied: certifi>=2017.4.17 in /usr/local/lib/python3.11/dist-packages (from requests->transformers) (2025.1.31)\n",
            "Downloading nvidia_cublas_cu12-12.4.5.8-py3-none-manylinux2014_x86_64.whl (363.4 MB)\n",
            "\u001b[2K   \u001b[90m━━━━━━━━━━━━━━━━━━━━━━━━━━━━━━━━━━━━━━━━\u001b[0m \u001b[32m363.4/363.4 MB\u001b[0m \u001b[31m3.9 MB/s\u001b[0m eta \u001b[36m0:00:00\u001b[0m\n",
            "\u001b[?25hDownloading nvidia_cuda_cupti_cu12-12.4.127-py3-none-manylinux2014_x86_64.whl (13.8 MB)\n",
            "\u001b[2K   \u001b[90m━━━━━━━━━━━━━━━━━━━━━━━━━━━━━━━━━━━━━━━━\u001b[0m \u001b[32m13.8/13.8 MB\u001b[0m \u001b[31m66.8 MB/s\u001b[0m eta \u001b[36m0:00:00\u001b[0m\n",
            "\u001b[?25hDownloading nvidia_cuda_nvrtc_cu12-12.4.127-py3-none-manylinux2014_x86_64.whl (24.6 MB)\n",
            "\u001b[2K   \u001b[90m━━━━━━━━━━━━━━━━━━━━━━━━━━━━━━━━━━━━━━━━\u001b[0m \u001b[32m24.6/24.6 MB\u001b[0m \u001b[31m36.5 MB/s\u001b[0m eta \u001b[36m0:00:00\u001b[0m\n",
            "\u001b[?25hDownloading nvidia_cuda_runtime_cu12-12.4.127-py3-none-manylinux2014_x86_64.whl (883 kB)\n",
            "\u001b[2K   \u001b[90m━━━━━━━━━━━━━━━━━━━━━━━━━━━━━━━━━━━━━━━━\u001b[0m \u001b[32m883.7/883.7 kB\u001b[0m \u001b[31m48.4 MB/s\u001b[0m eta \u001b[36m0:00:00\u001b[0m\n",
            "\u001b[?25hDownloading nvidia_cudnn_cu12-9.1.0.70-py3-none-manylinux2014_x86_64.whl (664.8 MB)\n",
            "\u001b[2K   \u001b[90m━━━━━━━━━━━━━━━━━━━━━━━━━━━━━━━━━━━━━━━━\u001b[0m \u001b[32m664.8/664.8 MB\u001b[0m \u001b[31m3.2 MB/s\u001b[0m eta \u001b[36m0:00:00\u001b[0m\n",
            "\u001b[?25hDownloading nvidia_cufft_cu12-11.2.1.3-py3-none-manylinux2014_x86_64.whl (211.5 MB)\n",
            "\u001b[2K   \u001b[90m━━━━━━━━━━━━━━━━━━━━━━━━━━━━━━━━━━━━━━━━\u001b[0m \u001b[32m211.5/211.5 MB\u001b[0m \u001b[31m5.6 MB/s\u001b[0m eta \u001b[36m0:00:00\u001b[0m\n",
            "\u001b[?25hDownloading nvidia_curand_cu12-10.3.5.147-py3-none-manylinux2014_x86_64.whl (56.3 MB)\n",
            "\u001b[2K   \u001b[90m━━━━━━━━━━━━━━━━━━━━━━━━━━━━━━━━━━━━━━━━\u001b[0m \u001b[32m56.3/56.3 MB\u001b[0m \u001b[31m15.0 MB/s\u001b[0m eta \u001b[36m0:00:00\u001b[0m\n",
            "\u001b[?25hDownloading nvidia_cusolver_cu12-11.6.1.9-py3-none-manylinux2014_x86_64.whl (127.9 MB)\n",
            "\u001b[2K   \u001b[90m━━━━━━━━━━━━━━━━━━━━━━━━━━━━━━━━━━━━━━━━\u001b[0m \u001b[32m127.9/127.9 MB\u001b[0m \u001b[31m7.4 MB/s\u001b[0m eta \u001b[36m0:00:00\u001b[0m\n",
            "\u001b[?25hDownloading nvidia_cusparse_cu12-12.3.1.170-py3-none-manylinux2014_x86_64.whl (207.5 MB)\n",
            "\u001b[2K   \u001b[90m━━━━━━━━━━━━━━━━━━━━━━━━━━━━━━━━━━━━━━━━\u001b[0m \u001b[32m207.5/207.5 MB\u001b[0m \u001b[31m5.9 MB/s\u001b[0m eta \u001b[36m0:00:00\u001b[0m\n",
            "\u001b[?25hDownloading nvidia_nvjitlink_cu12-12.4.127-py3-none-manylinux2014_x86_64.whl (21.1 MB)\n",
            "\u001b[2K   \u001b[90m━━━━━━━━━━━━━━━━━━━━━━━━━━━━━━━━━━━━━━━━\u001b[0m \u001b[32m21.1/21.1 MB\u001b[0m \u001b[31m43.0 MB/s\u001b[0m eta \u001b[36m0:00:00\u001b[0m\n",
            "\u001b[?25hInstalling collected packages: nvidia-nvjitlink-cu12, nvidia-curand-cu12, nvidia-cufft-cu12, nvidia-cuda-runtime-cu12, nvidia-cuda-nvrtc-cu12, nvidia-cuda-cupti-cu12, nvidia-cublas-cu12, nvidia-cusparse-cu12, nvidia-cudnn-cu12, nvidia-cusolver-cu12\n",
            "  Attempting uninstall: nvidia-nvjitlink-cu12\n",
            "    Found existing installation: nvidia-nvjitlink-cu12 12.5.82\n",
            "    Uninstalling nvidia-nvjitlink-cu12-12.5.82:\n",
            "      Successfully uninstalled nvidia-nvjitlink-cu12-12.5.82\n",
            "  Attempting uninstall: nvidia-curand-cu12\n",
            "    Found existing installation: nvidia-curand-cu12 10.3.6.82\n",
            "    Uninstalling nvidia-curand-cu12-10.3.6.82:\n",
            "      Successfully uninstalled nvidia-curand-cu12-10.3.6.82\n",
            "  Attempting uninstall: nvidia-cufft-cu12\n",
            "    Found existing installation: nvidia-cufft-cu12 11.2.3.61\n",
            "    Uninstalling nvidia-cufft-cu12-11.2.3.61:\n",
            "      Successfully uninstalled nvidia-cufft-cu12-11.2.3.61\n",
            "  Attempting uninstall: nvidia-cuda-runtime-cu12\n",
            "    Found existing installation: nvidia-cuda-runtime-cu12 12.5.82\n",
            "    Uninstalling nvidia-cuda-runtime-cu12-12.5.82:\n",
            "      Successfully uninstalled nvidia-cuda-runtime-cu12-12.5.82\n",
            "  Attempting uninstall: nvidia-cuda-nvrtc-cu12\n",
            "    Found existing installation: nvidia-cuda-nvrtc-cu12 12.5.82\n",
            "    Uninstalling nvidia-cuda-nvrtc-cu12-12.5.82:\n",
            "      Successfully uninstalled nvidia-cuda-nvrtc-cu12-12.5.82\n",
            "  Attempting uninstall: nvidia-cuda-cupti-cu12\n",
            "    Found existing installation: nvidia-cuda-cupti-cu12 12.5.82\n",
            "    Uninstalling nvidia-cuda-cupti-cu12-12.5.82:\n",
            "      Successfully uninstalled nvidia-cuda-cupti-cu12-12.5.82\n",
            "  Attempting uninstall: nvidia-cublas-cu12\n",
            "    Found existing installation: nvidia-cublas-cu12 12.5.3.2\n",
            "    Uninstalling nvidia-cublas-cu12-12.5.3.2:\n",
            "      Successfully uninstalled nvidia-cublas-cu12-12.5.3.2\n",
            "  Attempting uninstall: nvidia-cusparse-cu12\n",
            "    Found existing installation: nvidia-cusparse-cu12 12.5.1.3\n",
            "    Uninstalling nvidia-cusparse-cu12-12.5.1.3:\n",
            "      Successfully uninstalled nvidia-cusparse-cu12-12.5.1.3\n",
            "  Attempting uninstall: nvidia-cudnn-cu12\n",
            "    Found existing installation: nvidia-cudnn-cu12 9.3.0.75\n",
            "    Uninstalling nvidia-cudnn-cu12-9.3.0.75:\n",
            "      Successfully uninstalled nvidia-cudnn-cu12-9.3.0.75\n",
            "  Attempting uninstall: nvidia-cusolver-cu12\n",
            "    Found existing installation: nvidia-cusolver-cu12 11.6.3.83\n",
            "    Uninstalling nvidia-cusolver-cu12-11.6.3.83:\n",
            "      Successfully uninstalled nvidia-cusolver-cu12-11.6.3.83\n",
            "Successfully installed nvidia-cublas-cu12-12.4.5.8 nvidia-cuda-cupti-cu12-12.4.127 nvidia-cuda-nvrtc-cu12-12.4.127 nvidia-cuda-runtime-cu12-12.4.127 nvidia-cudnn-cu12-9.1.0.70 nvidia-cufft-cu12-11.2.1.3 nvidia-curand-cu12-10.3.5.147 nvidia-cusolver-cu12-11.6.1.9 nvidia-cusparse-cu12-12.3.1.170 nvidia-nvjitlink-cu12-12.4.127\n"
          ]
        },
        {
          "data": {
            "application/vnd.colab-display-data+json": {
              "id": "f336094ca8604bbeaececbcdf4ab052b",
              "pip_warning": {
                "packages": [
                  "nvidia"
                ]
              }
            }
          },
          "metadata": {},
          "output_type": "display_data"
        }
      ],
      "source": [
        "!pip install nltk\n",
        "!pip install spacy\n",
        "!pip install pyspark py4j\n",
        "!pip install pyspark transformers torch\n",
        "!pip install seaborn"
      ]
    },
    {
      "cell_type": "code",
      "execution_count": 3,
      "metadata": {
        "id": "rS6y_4l8lKms",
        "colab": {
          "base_uri": "https://localhost:8080/"
        },
        "outputId": "01c1cc3e-5499-4cb2-a2ae-bc90dac98212"
      },
      "outputs": [
        {
          "output_type": "stream",
          "name": "stdout",
          "text": [
            "Mounted at /content/drive\n"
          ]
        }
      ],
      "source": [
        "from google.colab import drive\n",
        "drive.mount('/content/drive')"
      ]
    },
    {
      "cell_type": "code",
      "execution_count": null,
      "metadata": {
        "colab": {
          "base_uri": "https://localhost:8080/"
        },
        "id": "cV4PHvNol7AU",
        "outputId": "499f29fb-33d9-4d71-867d-3ac0374e9d1a"
      },
      "outputs": [
        {
          "name": "stdout",
          "output_type": "stream",
          "text": [
            "Dataset URL: https://www.kaggle.com/datasets/mohamedabdelwahabali/drugreview\n",
            "License(s): CC0-1.0\n",
            "Downloading drugreview.zip to /content\n",
            " 98% 194M/199M [00:06<00:00, 39.5MB/s]\n",
            "100% 199M/199M [00:06<00:00, 33.1MB/s]\n",
            "Archive:  /content/drugreview.zip\n",
            "  inflating: /content/drive/MyDrive/DrugReview/drug_review/dataset_dict.json  \n",
            "  inflating: /content/drive/MyDrive/DrugReview/drug_review/test/dataset.arrow  \n",
            "  inflating: /content/drive/MyDrive/DrugReview/drug_review/test/dataset_info.json  \n",
            "  inflating: /content/drive/MyDrive/DrugReview/drug_review/test/state.json  \n",
            "  inflating: /content/drive/MyDrive/DrugReview/drug_review/train/dataset.arrow  \n",
            "  inflating: /content/drive/MyDrive/DrugReview/drug_review/train/dataset_info.json  \n",
            "  inflating: /content/drive/MyDrive/DrugReview/drug_review/train/state.json  \n",
            "  inflating: /content/drive/MyDrive/DrugReview/drug_review/validation/dataset.arrow  \n",
            "  inflating: /content/drive/MyDrive/DrugReview/drug_review/validation/dataset_info.json  \n",
            "  inflating: /content/drive/MyDrive/DrugReview/drug_review/validation/state.json  \n",
            "  inflating: /content/drive/MyDrive/DrugReview/drug_review_test.csv  \n",
            "  inflating: /content/drive/MyDrive/DrugReview/drug_review_test.jsonl  \n",
            "  inflating: /content/drive/MyDrive/DrugReview/drug_review_train.csv  \n",
            "  inflating: /content/drive/MyDrive/DrugReview/drug_review_train.jsonl  \n",
            "  inflating: /content/drive/MyDrive/DrugReview/drug_review_validation.csv  \n",
            "  inflating: /content/drive/MyDrive/DrugReview/drug_review_validation.jsonl  \n",
            "  inflating: /content/drive/MyDrive/DrugReview/drugsComTest_raw.tsv  \n",
            "  inflating: /content/drive/MyDrive/DrugReview/drugsComTrain_raw.tsv  \n",
            "  inflating: /content/drive/MyDrive/DrugReview/drugsCom_raw/drugsComTest_raw.tsv  \n",
            "  inflating: /content/drive/MyDrive/DrugReview/drugsCom_raw/drugsComTrain_raw.tsv  \n",
            "chmod: cannot access '/content/drive/MyDrive/DrugReview/kaggle.json': No such file or directory\n"
          ]
        }
      ],
      "source": [
        "!mkdir /content/drive/MyDrive/DrugReview\n",
        "# download dataset from kaggle\n",
        "!kaggle datasets download mohamedabdelwahabali/drugreview\n",
        "!unzip /content/drugreview.zip -d /content/drive/MyDrive/DrugReview\n",
        "!chmod 600 /content/drive/MyDrive/DrugReview/kaggle.json"
      ]
    },
    {
      "cell_type": "markdown",
      "source": [
        "### **Analysis**"
      ],
      "metadata": {
        "id": "9i1uus3nRpC-"
      }
    },
    {
      "cell_type": "code",
      "source": [
        "from pyspark.sql import SparkSession\n",
        "import seaborn as sns\n",
        "import matplotlib.pyplot as plt\n",
        "spark = SparkSession.builder.appName(\"DrugReviewAnalysis\").getOrCreate()\n",
        "df = spark.read.csv(\"/content/drive/MyDrive/DrugReview/drug_review_train.csv\", header=True, inferSchema=True,multiLine=True,escape='\"')\n",
        "df.show()"
      ],
      "metadata": {
        "colab": {
          "base_uri": "https://localhost:8080/"
        },
        "id": "brZ0fyghSPmU",
        "outputId": "677ffe1f-9680-4938-eb3a-02bf68300016"
      },
      "execution_count": 4,
      "outputs": [
        {
          "output_type": "stream",
          "name": "stdout",
          "text": [
            "+---+----------+--------------------+--------------------+--------------------+------+-----------------+-----------+-------------+\n",
            "|_c0|patient_id|            drugName|           condition|              review|rating|             date|usefulCount|review_length|\n",
            "+---+----------+--------------------+--------------------+--------------------+------+-----------------+-----------+-------------+\n",
            "|  0|     89879|        Cyclosporine|keratoconjunctivi...|\"i have used rest...|   2.0|   April 20, 2013|         69|          147|\n",
            "|  1|    143975|        Etonogestrel|       birth control|\"my experience ha...|   7.0|   August 7, 2016|          4|          136|\n",
            "|  2|    106473|            Implanon|       birth control|\"this is my secon...|   1.0|     May 11, 2016|          6|          140|\n",
            "|  3|    184526|         Hydroxyzine|             anxiety|\"i recommend taki...|  10.0|   March 19, 2012|        124|          104|\n",
            "|  4|     91587|       Dalfampridine|  multiple sclerosis|\"i have been on a...|   9.0|   August 1, 2010|        101|           74|\n",
            "|  5|    218554|        Tri-Sprintec|       birth control|\"used for birth c...|   2.0|  January 7, 2017|          4|           57|\n",
            "|  6|    207442|Suprep Bowel Prep...|   bowel preparation|\"my prep instruct...|   8.0| December 5, 2016|         18|           86|\n",
            "|  7|     63753|              Epiduo|                acne|\"love it. i had t...|   9.0| October 19, 2011|         20|           63|\n",
            "|  8|    140845|        Escitalopram|          depression|\"i felt a positiv...|   9.0|   April 21, 2016|         13|           49|\n",
            "|  9|    182520|              Mirena|       birth control|\"i have been on m...|   1.0|    June 15, 2009|         45|           37|\n",
            "| 10|     93521|            Morphine|        chronic pain|\"as the morphine ...|   5.0|February 15, 2016|         24|          135|\n",
            "| 11|    218080|Amoxicillin / cla...|           sinusitis|\"february 16th 20...|   1.0|February 18, 2017|          3|          129|\n",
            "| 12|    198830|        Depo-Provera|abnormal uterine ...|\"so i've had two ...|   2.0|  August 28, 2016|         15|           64|\n",
            "| 13|     45707|          Fluoxetine|          depression|\"i took prozac fo...|   1.0|   April 17, 2012|         17|           84|\n",
            "| 14|     69403|       Buprenorphine|   opiate dependence|\"this medication ...|  10.0|February 14, 2016|          5|           38|\n",
            "| 15|      2180|           Metformin|polycystic ovary ...|\"i was diagnosed ...|   7.0|  August 18, 2015|         19|           59|\n",
            "| 16|     99034|              Lutera|       birth control|\"this was my firs...|   1.0|   August 9, 2015|          2|           97|\n",
            "| 17|    158039|            Aromasin|        breast cance|\"i took two years...|   3.0| October 29, 2011|         82|           84|\n",
            "| 18|    148611|              Mirena|       birth control|\"i love my iud fo...|  10.0| February 8, 2017|         40|          134|\n",
            "| 19|     27312|             Imitrex|            migraine|\"imitrex is a won...|  10.0|December 23, 2009|          5|          107|\n",
            "+---+----------+--------------------+--------------------+--------------------+------+-----------------+-----------+-------------+\n",
            "only showing top 20 rows\n",
            "\n"
          ]
        }
      ]
    },
    {
      "cell_type": "code",
      "source": [
        "df.count()"
      ],
      "metadata": {
        "colab": {
          "base_uri": "https://localhost:8080/"
        },
        "id": "Ipy5HMwxS_9H",
        "outputId": "c3d61222-4afd-49a6-d4a0-220f4a089be1"
      },
      "execution_count": 16,
      "outputs": [
        {
          "output_type": "execute_result",
          "data": {
            "text/plain": [
              "110811"
            ]
          },
          "metadata": {},
          "execution_count": 16
        }
      ]
    },
    {
      "cell_type": "code",
      "source": [
        "drug = df.groupBy('drugName').count().sort('count',ascending=False)\n",
        "drug.show()\n",
        "print(drug.count())"
      ],
      "metadata": {
        "colab": {
          "base_uri": "https://localhost:8080/"
        },
        "id": "rHsn58e8VGVN",
        "outputId": "2a98c8ad-83c9-4d8c-8d8b-ad32ef7edfa3"
      },
      "execution_count": 30,
      "outputs": [
        {
          "output_type": "stream",
          "name": "stdout",
          "text": [
            "+--------------------+-----+\n",
            "|            drugName|count|\n",
            "+--------------------+-----+\n",
            "|      Levonorgestrel| 2833|\n",
            "|        Etonogestrel| 2577|\n",
            "|Ethinyl estradiol...| 2121|\n",
            "|           Nexplanon| 1672|\n",
            "|Ethinyl estradiol...| 1549|\n",
            "|Ethinyl estradiol...| 1370|\n",
            "|         Phentermine| 1132|\n",
            "|          Sertraline|  981|\n",
            "|              Mirena|  959|\n",
            "|        Escitalopram|  921|\n",
            "|            Implanon|  859|\n",
            "|           Bupropion|  742|\n",
            "|          Miconazole|  734|\n",
            "| Medroxyprogesterone|  731|\n",
            "|          Citalopram|  723|\n",
            "|          Gabapentin|  713|\n",
            "|         Venlafaxine|  706|\n",
            "|Bupropion / naltr...|  687|\n",
            "|            Contrave|  679|\n",
            "|             Lexapro|  679|\n",
            "+--------------------+-----+\n",
            "only showing top 20 rows\n",
            "\n",
            "2865\n"
          ]
        }
      ]
    },
    {
      "cell_type": "code",
      "source": [
        "condition = df.groupBy('condition').count().sort('count',ascending=False)\n",
        "condition.show()\n",
        "print(condition.count())"
      ],
      "metadata": {
        "colab": {
          "base_uri": "https://localhost:8080/"
        },
        "id": "-sS6una7TwT2",
        "outputId": "d7ada54a-7039-45c9-8c91-99357cfe91c3"
      },
      "execution_count": 29,
      "outputs": [
        {
          "output_type": "stream",
          "name": "stdout",
          "text": [
            "+--------------------+-----+\n",
            "|           condition|count|\n",
            "+--------------------+-----+\n",
            "|       birth control|22123|\n",
            "|          depression| 6444|\n",
            "|                acne| 4145|\n",
            "|             anxiety| 3964|\n",
            "|                pain| 3773|\n",
            "|     bipolar disorde| 2880|\n",
            "|         weight loss| 2637|\n",
            "|             obesity| 2610|\n",
            "|            insomnia| 2417|\n",
            "|                adhd| 2375|\n",
            "|emergency contrac...| 1898|\n",
            "|    diabetes, type 2| 1727|\n",
            "|vaginal yeast inf...| 1662|\n",
            "|abnormal uterine ...| 1574|\n",
            "| high blood pressure| 1426|\n",
            "|   bowel preparation| 1385|\n",
            "|   smoking cessation| 1280|\n",
            "|  anxiety and stress| 1191|\n",
            "|         ibromyalgia| 1181|\n",
            "|major depressive ...| 1158|\n",
            "+--------------------+-----+\n",
            "only showing top 20 rows\n",
            "\n",
            "791\n"
          ]
        }
      ]
    },
    {
      "cell_type": "code",
      "source": [
        "from pyspark.sql.functions import col, when, isnull, isnan, count, lower\n",
        "df.select([count(when(\n",
        "    isnan(col(each_col)) | \\\n",
        "    (col(each_col) == \"\") | \\\n",
        "    isnull(col(each_col)) | \\\n",
        "    (lower(col(each_col)) == \"null\"), 1 \\\n",
        ")).alias(f\"{each_col} -> count\") for each_col in df.columns]).show()"
      ],
      "metadata": {
        "colab": {
          "base_uri": "https://localhost:8080/"
        },
        "id": "uK8qQAumWr8k",
        "outputId": "3a3e280e-2818-467a-a183-ba45ce8ccb31"
      },
      "execution_count": 14,
      "outputs": [
        {
          "output_type": "stream",
          "name": "stdout",
          "text": [
            "+------------+-------------------+-----------------+------------------+---------------+---------------+-------------+--------------------+----------------------+\n",
            "|_c0 -> count|patient_id -> count|drugName -> count|condition -> count|review -> count|rating -> count|date -> count|usefulCount -> count|review_length -> count|\n",
            "+------------+-------------------+-----------------+------------------+---------------+---------------+-------------+--------------------+----------------------+\n",
            "|           0|                  0|                0|                 0|              0|              0|            0|                   0|                     0|\n",
            "+------------+-------------------+-----------------+------------------+---------------+---------------+-------------+--------------------+----------------------+\n",
            "\n"
          ]
        }
      ]
    },
    {
      "cell_type": "code",
      "source": [
        "import seaborn as sns\n",
        "import matplotlib.pyplot as plt\n",
        "from pyspark.sql import SparkSession\n",
        "from pyspark.sql.functions import col\n",
        "\n",
        "# Select the 'rating' column\n",
        "rating_df = df.select('rating')\n",
        "\n",
        "# Aggregate the count of each rating\n",
        "rating_counts = rating_df.groupBy('rating').count().orderBy('rating')\n",
        "\n",
        "# Convert PySpark DataFrame to Pandas DataFrame for visualization\n",
        "rating_counts_pandas = rating_counts.toPandas()\n",
        "\n",
        "# Plot 1: Bar Plot (Count of Ratings)\n",
        "plt.figure(figsize=(10, 6))\n",
        "sns.barplot(x='rating', y='count', data=rating_counts_pandas, palette='viridis')\n",
        "plt.title('Count of Ratings', fontsize=16)\n",
        "plt.xlabel('Rating', fontsize=14)\n",
        "plt.ylabel('Count', fontsize=14)\n",
        "plt.xticks(rotation=45)  # Rotate x-axis labels for better readability\n",
        "plt.show()\n",
        "\n",
        "\n"
      ],
      "metadata": {
        "colab": {
          "base_uri": "https://localhost:8080/",
          "height": 685
        },
        "id": "uW-4ZhpST4l-",
        "outputId": "4f2cf290-7372-47bc-8e02-a2f44e3a5146"
      },
      "execution_count": 39,
      "outputs": [
        {
          "output_type": "stream",
          "name": "stderr",
          "text": [
            "<ipython-input-39-8a5da9b0032a>:17: FutureWarning: \n",
            "\n",
            "Passing `palette` without assigning `hue` is deprecated and will be removed in v0.14.0. Assign the `x` variable to `hue` and set `legend=False` for the same effect.\n",
            "\n",
            "  sns.barplot(x='rating', y='count', data=rating_counts_pandas, palette='viridis')\n"
          ]
        },
        {
          "output_type": "display_data",
          "data": {
            "text/plain": [
              "<Figure size 1000x600 with 1 Axes>"
            ],
            "image/png": "[encoded data removed]"
          },
          "metadata": {}
        }
      ]
    },
    {
      "cell_type": "code",
      "source": [
        "import seaborn as sns\n",
        "import matplotlib.pyplot as plt\n",
        "from pyspark.sql import SparkSession\n",
        "from pyspark.sql.functions import col, avg\n",
        "\n",
        "# Group by 'rating' and calculate the average review length\n",
        "rating_review_avg = df.groupBy(\"rating\").agg(avg(\"review_length\").alias(\"avg_review_length\")).orderBy(\"rating\")\n",
        "rating_useful_avg = df.groupBy(\"rating\").agg(avg(\"usefulCount\").alias(\"avg_usefulCount\")).orderBy(\"rating\")\n",
        "\n",
        "# Convert to Pandas for visualization\n",
        "rating_review_avg_pandas = rating_review_avg.toPandas()\n",
        "rating_useful_avg_pandas = rating_useful_avg.toPandas()\n",
        "\n",
        "# Plot: Average Review Length per Rating\n",
        "plt.figure(figsize=(10, 6))\n",
        "sns.barplot(x=\"rating\", y=\"avg_review_length\", data=rating_review_avg_pandas, palette=\"viridis\")\n",
        "plt.title(\"Average Review Length by Rating\", fontsize=16)\n",
        "plt.xlabel(\"Rating\", fontsize=14)\n",
        "plt.ylabel(\"Average Review Length\", fontsize=14)\n",
        "plt.xticks(rotation=45)  # Rotate x-axis labels for better readability\n",
        "plt.show()\n",
        "\n",
        "plt.figure(figsize=(10, 6))\n",
        "sns.barplot(x=\"rating\", y=\"avg_usefulCount\", data=rating_useful_avg_pandas , palette=\"viridis\") # Changed 'avg_useful_count' to 'avg_usefulCount'\n",
        "plt.title(\"Average Useful Count by Rating\", fontsize=16)\n",
        "plt.xlabel(\"Rating\", fontsize=14)\n",
        "plt.ylabel(\"Average Useful Count\", fontsize=14)\n",
        "plt.xticks(rotation=45)  # Rotate x-axis labels for better readability\n",
        "plt.show()"
      ],
      "metadata": {
        "colab": {
          "base_uri": "https://localhost:8080/",
          "height": 1000
        },
        "id": "sUgtKNXBcyk5",
        "outputId": "b6e0c56c-d7e0-4e73-a25a-b1c3da40d261"
      },
      "execution_count": 13,
      "outputs": [
        {
          "output_type": "stream",
          "name": "stderr",
          "text": [
            "<ipython-input-13-c947aa5464a4>:16: FutureWarning: \n",
            "\n",
            "Passing `palette` without assigning `hue` is deprecated and will be removed in v0.14.0. Assign the `x` variable to `hue` and set `legend=False` for the same effect.\n",
            "\n",
            "  sns.barplot(x=\"rating\", y=\"avg_review_length\", data=rating_review_avg_pandas, palette=\"viridis\")\n"
          ]
        },
        {
          "output_type": "display_data",
          "data": {
            "text/plain": [
              "<Figure size 1000x600 with 1 Axes>"
            ],
            "image/png": "[encoded data removed]"
          },
          "metadata": {}
        },
        {
          "output_type": "stream",
          "name": "stderr",
          "text": [
            "<ipython-input-13-c947aa5464a4>:24: FutureWarning: \n",
            "\n",
            "Passing `palette` without assigning `hue` is deprecated and will be removed in v0.14.0. Assign the `x` variable to `hue` and set `legend=False` for the same effect.\n",
            "\n",
            "  sns.barplot(x=\"rating\", y=\"avg_usefulCount\", data=rating_useful_avg_pandas , palette=\"viridis\") # Changed 'avg_useful_count' to 'avg_usefulCount'\n"
          ]
        },
        {
          "output_type": "display_data",
          "data": {
            "text/plain": [
              "<Figure size 1000x600 with 1 Axes>"
            ],
            "image/png": "[encoded data removed]"
          },
          "metadata": {}
        }
      ]
    },
    {
      "cell_type": "markdown",
      "source": [
        "# **Sentimental Analysis Training**"
      ],
      "metadata": {
        "id": "3Mi7DiNghEkz"
      }
    },
    {
      "cell_type": "code",
      "execution_count": null,
      "metadata": {
        "colab": {
          "base_uri": "https://localhost:8080/"
        },
        "id": "VsFeJ0fgsYPx",
        "outputId": "dcfa0577-0c10-4989-bb17-0b4e2bf8cc0e"
      },
      "outputs": [
        {
          "name": "stderr",
          "output_type": "stream",
          "text": [
            "[nltk_data] Downloading package wordnet to /root/nltk_data...\n",
            "[nltk_data]   Package wordnet is already up-to-date!\n",
            "[nltk_data] Downloading package omw-1.4 to /root/nltk_data...\n",
            "[nltk_data]   Package omw-1.4 is already up-to-date!\n",
            "[nltk_data] Downloading package stopwords to /root/nltk_data...\n",
            "[nltk_data]   Package stopwords is already up-to-date!\n",
            "/usr/local/lib/python3.11/dist-packages/keras/src/layers/core/dense.py:87: UserWarning: Do not pass an `input_shape`/`input_dim` argument to a layer. When using Sequential models, prefer using an `Input(shape)` object as the first layer in the model instead.\n",
            "  super().__init__(activity_regularizer=activity_regularizer, **kwargs)\n"
          ]
        },
        {
          "name": "stdout",
          "output_type": "stream",
          "text": [
            "Epoch 1/10\n",
            "\u001b[1m2766/2766\u001b[0m \u001b[32m━━━━━━━━━━━━━━━━━━━━\u001b[0m\u001b[37m\u001b[0m \u001b[1m19s\u001b[0m 6ms/step - accuracy: 0.5924 - loss: 0.8740\n",
            "Epoch 2/10\n",
            "\u001b[1m2766/2766\u001b[0m \u001b[32m━━━━━━━━━━━━━━━━━━━━\u001b[0m\u001b[37m\u001b[0m \u001b[1m21s\u001b[0m 6ms/step - accuracy: 0.7254 - loss: 0.6388\n",
            "Epoch 3/10\n",
            "\u001b[1m2766/2766\u001b[0m \u001b[32m━━━━━━━━━━━━━━━━━━━━\u001b[0m\u001b[37m\u001b[0m \u001b[1m19s\u001b[0m 7ms/step - accuracy: 0.8333 - loss: 0.4183\n",
            "Epoch 4/10\n",
            "\u001b[1m2766/2766\u001b[0m \u001b[32m━━━━━━━━━━━━━━━━━━━━\u001b[0m\u001b[37m\u001b[0m \u001b[1m20s\u001b[0m 7ms/step - accuracy: 0.9098 - loss: 0.2486\n",
            "Epoch 5/10\n",
            "\u001b[1m2766/2766\u001b[0m \u001b[32m━━━━━━━━━━━━━━━━━━━━\u001b[0m\u001b[37m\u001b[0m \u001b[1m22s\u001b[0m 7ms/step - accuracy: 0.9468 - loss: 0.1513\n",
            "Epoch 6/10\n",
            "\u001b[1m2766/2766\u001b[0m \u001b[32m━━━━━━━━━━━━━━━━━━━━\u001b[0m\u001b[37m\u001b[0m \u001b[1m19s\u001b[0m 6ms/step - accuracy: 0.9638 - loss: 0.1051\n",
            "Epoch 7/10\n",
            "\u001b[1m2766/2766\u001b[0m \u001b[32m━━━━━━━━━━━━━━━━━━━━\u001b[0m\u001b[37m\u001b[0m \u001b[1m21s\u001b[0m 7ms/step - accuracy: 0.9733 - loss: 0.0791\n",
            "Epoch 8/10\n",
            "\u001b[1m2766/2766\u001b[0m \u001b[32m━━━━━━━━━━━━━━━━━━━━\u001b[0m\u001b[37m\u001b[0m \u001b[1m20s\u001b[0m 6ms/step - accuracy: 0.9793 - loss: 0.0629\n",
            "Epoch 9/10\n",
            "\u001b[1m2766/2766\u001b[0m \u001b[32m━━━━━━━━━━━━━━━━━━━━\u001b[0m\u001b[37m\u001b[0m \u001b[1m17s\u001b[0m 6ms/step - accuracy: 0.9804 - loss: 0.0595\n",
            "Epoch 10/10\n",
            "\u001b[1m2766/2766\u001b[0m \u001b[32m━━━━━━━━━━━━━━━━━━━━\u001b[0m\u001b[37m\u001b[0m \u001b[1m22s\u001b[0m 7ms/step - accuracy: 0.9845 - loss: 0.0456\n"
          ]
        },
        {
          "name": "stderr",
          "output_type": "stream",
          "text": [
            "WARNING:absl:You are saving your model as an HDF5 file via `model.save()` or `keras.saving.save_model(model)`. This file format is considered legacy. We recommend using instead the native Keras format, e.g. `model.save('my_model.keras')` or `keras.saving.save_model(model, 'my_model.keras')`. \n",
            "WARNING:absl:Compiled the loaded model, but the compiled metrics have yet to be built. `model.compile_metrics` will be empty until you train or evaluate the model.\n"
          ]
        },
        {
          "name": "stdout",
          "output_type": "stream",
          "text": [
            "Validation Accuracy: 0.7200\n"
          ]
        }
      ],
      "source": [
        "# Import necessary libraries\n",
        "import tensorflow as tf\n",
        "from pyspark.sql import SparkSession\n",
        "from pyspark.ml.feature import StopWordsRemover, HashingTF, IDF, RegexTokenizer, StringIndexer\n",
        "from pyspark.ml import Pipeline, Transformer\n",
        "from pyspark.sql.functions import col, udf\n",
        "from pyspark.sql.types import IntegerType, StringType, ArrayType, DoubleType\n",
        "from pyspark.sql.functions import regexp_replace\n",
        "from nltk.stem import WordNetLemmatizer\n",
        "import nltk\n",
        "import numpy as np\n",
        "from pyspark.ml.util import DefaultParamsWritable, DefaultParamsReadable\n",
        "from pyspark.ml.param.shared import HasInputCol, HasOutputCol\n",
        "from tensorflow import keras\n",
        "from pyspark.ml.evaluation import MulticlassClassificationEvaluator\n",
        "\n",
        "# Download NLTK data\n",
        "nltk.download('wordnet')\n",
        "nltk.download('omw-1.4')\n",
        "nltk.download('stopwords')\n",
        "\n",
        "# Initialize Spark session\n",
        "spark = SparkSession.builder.appName(\"SentimentAnalysis\").getOrCreate()\n",
        "\n",
        "# Load dataset\n",
        "df = spark.read.csv(\"/content/drive/MyDrive/DrugReview/drug_review_train.csv\",\n",
        "                    header=True, inferSchema=True, multiLine=True, escape='\"')\n",
        "\n",
        "# Select relevant columns\n",
        "df = df.select('rating', 'review')\n",
        "\n",
        "# Remove special characters\n",
        "df = df.withColumn('review', regexp_replace('review', '[^a-zA-Z0-9\\\\s]', ''))\n",
        "\n",
        "# Tokenization\n",
        "tokenizer = RegexTokenizer(inputCol=\"review\", outputCol=\"tokenized_words\", pattern=\"\\\\W\")\n",
        "\n",
        "# Define sentiment labels based on rating\n",
        "def sentiment_label(rating):\n",
        "    if rating > 8:\n",
        "        return 2  # Positive\n",
        "    elif rating < 4:\n",
        "        return 0  # Negative\n",
        "    else:\n",
        "        return 1  # Neutral\n",
        "\n",
        "sentiment_udf = udf(sentiment_label, IntegerType())\n",
        "df = df.withColumn(\"label\", sentiment_udf(col(\"rating\")))\n",
        "\n",
        "# Stop words removal\n",
        "stopwords_remover = StopWordsRemover(inputCol=\"tokenized_words\", outputCol=\"filtered_words\")\n",
        "\n",
        "# Lemmatization\n",
        "def lemmatizer(text):\n",
        "    lemmatizer = WordNetLemmatizer()\n",
        "    return [lemmatizer.lemmatize(token) for token in text]\n",
        "\n",
        "lemmatize_udf = udf(lemmatizer, ArrayType(StringType()))\n",
        "\n",
        "class LemmatizerTransformer(Transformer, HasInputCol, HasOutputCol, DefaultParamsWritable, DefaultParamsReadable):\n",
        "    def __init__(self, inputCol=\"filtered_words\", outputCol=\"lemmatized_words\"):\n",
        "        super(LemmatizerTransformer, self).__init__()\n",
        "        self._setDefault(inputCol=inputCol, outputCol=outputCol)  # Set default using _setDefault\n",
        "        self.inputCol = inputCol\n",
        "        self.outputCol = outputCol\n",
        "\n",
        "    def _transform(self, dataset):\n",
        "        return dataset.withColumn(self.outputCol, lemmatize_udf(col(self.inputCol)))\n",
        "\n",
        "lemmatizer_transformer = LemmatizerTransformer(inputCol=\"filtered_words\", outputCol=\"lemmatized_words\")\n",
        "\n",
        "# Feature extraction (TF-IDF)\n",
        "hashingTF = HashingTF(inputCol=\"lemmatized_words\", outputCol=\"raw_tf_features\", numFeatures=2000)\n",
        "idf = IDF(inputCol=\"raw_tf_features\", outputCol=\"tfidf_features\")\n",
        "\n",
        "# Convert label column to numerical index\n",
        "indexer = StringIndexer(inputCol=\"label\", outputCol=\"indexedLabel\")\n",
        "\n",
        "# Split data into training and validation sets\n",
        "train_df, val_df = df.randomSplit([0.8, 0.2], seed=42)\n",
        "\n",
        "# Define the pipeline\n",
        "pipeline = Pipeline(stages=[tokenizer, stopwords_remover, lemmatizer_transformer, hashingTF, idf, indexer])\n",
        "\n",
        "# Train the pipeline\n",
        "pipeline_model = pipeline.fit(train_df)\n",
        "\n",
        "# Transform the training and validation sets\n",
        "train_df = pipeline_model.transform(train_df)\n",
        "val_df = pipeline_model.transform(val_df)\n",
        "\n",
        "# Convert Spark DataFrame to Pandas for Neural Network Training\n",
        "train_pandas = train_df.select(\"tfidf_features\", \"indexedLabel\").toPandas()\n",
        "X_train = np.array([x.toArray() for x in train_pandas[\"tfidf_features\"]])\n",
        "y_train = train_pandas[\"indexedLabel\"].values\n",
        "\n",
        "# Define Neural Network Model\n",
        "model = keras.Sequential([\n",
        "    keras.layers.Dense(128, activation=\"relu\", input_shape=(2000,)),\n",
        "    # keras.layers.BatchNormalization(),\n",
        "    # keras.layers.Dropout(0.3),\n",
        "    keras.layers.Dense(64, activation=\"relu\"),\n",
        "    keras.layers.Dense(32,activation = \"relu\"),\n",
        "    # keras.layers.BatchNormalization(),\n",
        "    # keras.layers.Dropout(0.3),\n",
        "    keras.layers.Dense(3, activation=\"softmax\")  # 3 sentiment classes\n",
        "\n",
        "])\n",
        "\n",
        "# Compile Model\n",
        "model.compile(optimizer=\"adam\", loss=\"sparse_categorical_crossentropy\", metrics=[\"accuracy\"])\n",
        "\n",
        "# Train the Model\n",
        "model.fit(X_train, y_train, epochs=10, batch_size=32, verbose=1)\n",
        "\n",
        "# Save Model\n",
        "model.save(\"/content/sentiment_model.h5\")\n",
        "\n",
        "# Load the trained model\n",
        "model = keras.models.load_model(\"/content/sentiment_model.h5\")\n",
        "\n",
        "# Define UDF for Prediction\n",
        "def predict_sentiment(features):\n",
        "    features = np.array(features.toArray()).astype(np.float32).reshape(1, -1)\n",
        "    prediction = model.predict(features, verbose=0)\n",
        "    return float(np.argmax(prediction))\n",
        "\n",
        "predict_udf = udf(predict_sentiment, DoubleType())\n",
        "val_df = val_df.limit(100)\n",
        "# Apply Prediction to Validation Set\n",
        "predictions = val_df.withColumn(\"prediction\", predict_udf(col(\"tfidf_features\")))\n",
        "\n",
        "# Evaluate Accuracy\n",
        "evaluator = MulticlassClassificationEvaluator(\n",
        "    labelCol=\"indexedLabel\",\n",
        "    predictionCol=\"prediction\",\n",
        "    metricName=\"accuracy\"\n",
        ")\n",
        "\n",
        "accuracy = evaluator.evaluate(predictions)\n",
        "print(f\"Validation Accuracy: {accuracy:.4f}\")\n",
        "\n",
        "\n",
        "\n",
        "\n",
        "\n",
        "\n",
        "\n"
      ]
    },
    {
      "cell_type": "code",
      "execution_count": null,
      "metadata": {
        "id": "q8VzMTXc_TSR"
      },
      "outputs": [],
      "source": []
    },
    {
      "cell_type": "code",
      "execution_count": 3,
      "metadata": {
        "colab": {
          "base_uri": "https://localhost:8080/"
        },
        "id": "sT1arZ5sGcKF",
        "outputId": "10e02409-bbf7-4fc8-daa9-84c6af1f957b"
      },
      "outputs": [
        {
          "output_type": "stream",
          "name": "stderr",
          "text": [
            "[nltk_data] Downloading package wordnet to /root/nltk_data...\n",
            "[nltk_data]   Package wordnet is already up-to-date!\n",
            "[nltk_data] Downloading package omw-1.4 to /root/nltk_data...\n",
            "[nltk_data]   Package omw-1.4 is already up-to-date!\n",
            "[nltk_data] Downloading package stopwords to /root/nltk_data...\n",
            "[nltk_data]   Package stopwords is already up-to-date!\n",
            "/usr/local/lib/python3.11/dist-packages/keras/src/layers/core/dense.py:87: UserWarning: Do not pass an `input_shape`/`input_dim` argument to a layer. When using Sequential models, prefer using an `Input(shape)` object as the first layer in the model instead.\n",
            "  super().__init__(activity_regularizer=activity_regularizer, **kwargs)\n"
          ]
        },
        {
          "output_type": "stream",
          "name": "stdout",
          "text": [
            "Epoch 1/10\n",
            "\u001b[1m2766/2766\u001b[0m \u001b[32m━━━━━━━━━━━━━━━━━━━━\u001b[0m\u001b[37m\u001b[0m \u001b[1m11s\u001b[0m 3ms/step - accuracy: 0.5797 - loss: 0.8864\n",
            "Epoch 2/10\n",
            "\u001b[1m2766/2766\u001b[0m \u001b[32m━━━━━━━━━━━━━━━━━━━━\u001b[0m\u001b[37m\u001b[0m \u001b[1m8s\u001b[0m 3ms/step - accuracy: 0.6337 - loss: 0.7991\n",
            "Epoch 3/10\n",
            "\u001b[1m2766/2766\u001b[0m \u001b[32m━━━━━━━━━━━━━━━━━━━━\u001b[0m\u001b[37m\u001b[0m \u001b[1m10s\u001b[0m 3ms/step - accuracy: 0.6432 - loss: 0.7776\n",
            "Epoch 4/10\n",
            "\u001b[1m2766/2766\u001b[0m \u001b[32m━━━━━━━━━━━━━━━━━━━━\u001b[0m\u001b[37m\u001b[0m \u001b[1m10s\u001b[0m 2ms/step - accuracy: 0.6534 - loss: 0.7587\n",
            "Epoch 5/10\n",
            "\u001b[1m2766/2766\u001b[0m \u001b[32m━━━━━━━━━━━━━━━━━━━━\u001b[0m\u001b[37m\u001b[0m \u001b[1m10s\u001b[0m 2ms/step - accuracy: 0.6624 - loss: 0.7430\n",
            "Epoch 6/10\n",
            "\u001b[1m2766/2766\u001b[0m \u001b[32m━━━━━━━━━━━━━━━━━━━━\u001b[0m\u001b[37m\u001b[0m \u001b[1m8s\u001b[0m 3ms/step - accuracy: 0.6694 - loss: 0.7282\n",
            "Epoch 7/10\n",
            "\u001b[1m2766/2766\u001b[0m \u001b[32m━━━━━━━━━━━━━━━━━━━━\u001b[0m\u001b[37m\u001b[0m \u001b[1m7s\u001b[0m 3ms/step - accuracy: 0.6769 - loss: 0.7170\n",
            "Epoch 8/10\n",
            "\u001b[1m2766/2766\u001b[0m \u001b[32m━━━━━━━━━━━━━━━━━━━━\u001b[0m\u001b[37m\u001b[0m \u001b[1m11s\u001b[0m 3ms/step - accuracy: 0.6819 - loss: 0.7056\n",
            "Epoch 9/10\n",
            "\u001b[1m2766/2766\u001b[0m \u001b[32m━━━━━━━━━━━━━━━━━━━━\u001b[0m\u001b[37m\u001b[0m \u001b[1m11s\u001b[0m 3ms/step - accuracy: 0.6884 - loss: 0.6920\n",
            "Epoch 10/10\n",
            "\u001b[1m2766/2766\u001b[0m \u001b[32m━━━━━━━━━━━━━━━━━━━━\u001b[0m\u001b[37m\u001b[0m \u001b[1m10s\u001b[0m 3ms/step - accuracy: 0.6969 - loss: 0.6777\n"
          ]
        },
        {
          "output_type": "stream",
          "name": "stderr",
          "text": [
            "WARNING:absl:You are saving your model as an HDF5 file via `model.save()` or `keras.saving.save_model(model)`. This file format is considered legacy. We recommend using instead the native Keras format, e.g. `model.save('my_model.keras')` or `keras.saving.save_model(model, 'my_model.keras')`. \n",
            "WARNING:absl:Compiled the loaded model, but the compiled metrics have yet to be built. `model.compile_metrics` will be empty until you train or evaluate the model.\n"
          ]
        },
        {
          "output_type": "stream",
          "name": "stdout",
          "text": [
            "Validation Accuracy: 0.7100\n"
          ]
        }
      ],
      "source": [
        "import tensorflow as tf\n",
        "from pyspark.sql import SparkSession\n",
        "from pyspark.ml.feature import StopWordsRemover, RegexTokenizer, StringIndexer, Word2Vec\n",
        "from pyspark.ml import Pipeline, Transformer\n",
        "from pyspark.sql.functions import col, udf\n",
        "from pyspark.sql.types import IntegerType, StringType, ArrayType, DoubleType\n",
        "from pyspark.sql.functions import regexp_replace\n",
        "from nltk.stem import WordNetLemmatizer\n",
        "import nltk\n",
        "import numpy as np\n",
        "from pyspark.ml.util import DefaultParamsWritable, DefaultParamsReadable\n",
        "from pyspark.ml.param.shared import HasInputCol, HasOutputCol\n",
        "from tensorflow import keras\n",
        "from pyspark.ml.evaluation import MulticlassClassificationEvaluator\n",
        "\n",
        "# Download NLTK data\n",
        "nltk.download('wordnet')\n",
        "nltk.download('omw-1.4')\n",
        "nltk.download('stopwords')\n",
        "\n",
        "# Initialize Spark session\n",
        "spark = SparkSession.builder.appName(\"SentimentAnalysis\").getOrCreate()\n",
        "\n",
        "# Load dataset\n",
        "df = spark.read.csv(\"/content/drive/MyDrive/DrugReview/drug_review_train.csv\",\n",
        "                    header=True, inferSchema=True, multiLine=True, escape='\"')\n",
        "\n",
        "# Select relevant columns\n",
        "df = df.select('rating', 'review')\n",
        "\n",
        "# Remove special characters\n",
        "df = df.withColumn('review', regexp_replace('review', '[^a-zA-Z0-9\\s]', ''))\n",
        "\n",
        "# Tokenization\n",
        "tokenizer = RegexTokenizer(inputCol=\"review\", outputCol=\"tokenized_words\", pattern=\"\\\\W\")\n",
        "\n",
        "# Define sentiment labels based on rating\n",
        "def sentiment_label(rating):\n",
        "    if rating > 8:\n",
        "        return 2  # Positive\n",
        "    elif rating < 4:\n",
        "        return 0  # Negative\n",
        "    else:\n",
        "        return 1  # Neutral\n",
        "\n",
        "sentiment_udf = udf(sentiment_label, IntegerType())\n",
        "df = df.withColumn(\"label\", sentiment_udf(col(\"rating\")))\n",
        "\n",
        "# Stop words removal\n",
        "stopwords_remover = StopWordsRemover(inputCol=\"tokenized_words\", outputCol=\"filtered_words\")\n",
        "\n",
        "# Lemmatization\n",
        "lemmatizer = WordNetLemmatizer()\n",
        "def lemmatizer_func(text):\n",
        "    return [lemmatizer.lemmatize(token) for token in text]\n",
        "\n",
        "lemmatize_udf = udf(lemmatizer_func, ArrayType(StringType()))\n",
        "\n",
        "class LemmatizerTransformer(Transformer, HasInputCol, HasOutputCol, DefaultParamsWritable, DefaultParamsReadable):\n",
        "    def __init__(self, inputCol=\"filtered_words\", outputCol=\"lemmatized_words\"):\n",
        "        super(LemmatizerTransformer, self).__init__()\n",
        "        self._setDefault(inputCol=inputCol, outputCol=outputCol)\n",
        "        self.inputCol = inputCol\n",
        "        self.outputCol = outputCol\n",
        "\n",
        "    def _transform(self, dataset):\n",
        "        return dataset.withColumn(self.outputCol, lemmatize_udf(col(self.inputCol)))\n",
        "\n",
        "lemmatizer_transformer = LemmatizerTransformer(inputCol=\"filtered_words\", outputCol=\"lemmatized_words\")\n",
        "\n",
        "# Feature extraction using Word2Vec\n",
        "word2vec = Word2Vec(vectorSize=200, minCount=1, inputCol=\"lemmatized_words\", outputCol=\"word2vec_features\")\n",
        "\n",
        "# Convert label column to numerical index\n",
        "indexer = StringIndexer(inputCol=\"label\", outputCol=\"indexedLabel\")\n",
        "\n",
        "# Split data into training and validation sets\n",
        "train_df, val_df = df.randomSplit([0.8, 0.2], seed=42)\n",
        "\n",
        "# Define the pipeline\n",
        "pipeline = Pipeline(stages=[tokenizer, stopwords_remover, lemmatizer_transformer, word2vec, indexer])\n",
        "\n",
        "# Train the pipeline\n",
        "pipeline_model = pipeline.fit(train_df)\n",
        "\n",
        "# Transform the training and validation sets\n",
        "train_df = pipeline_model.transform(train_df)\n",
        "val_df = pipeline_model.transform(val_df)\n",
        "\n",
        "# Convert Spark DataFrame to Pandas for Neural Network Training\n",
        "train_pandas = train_df.select(\"word2vec_features\", \"indexedLabel\").toPandas()\n",
        "X_train = np.array([x for x in train_pandas[\"word2vec_features\"]])\n",
        "y_train = train_pandas[\"indexedLabel\"].values\n",
        "\n",
        "# Define Neural Network Model\n",
        "model = keras.Sequential([\n",
        "    keras.layers.Dense(128, activation=\"relu\", input_shape=(200,)),\n",
        "    keras.layers.Dense(64, activation=\"relu\"),\n",
        "    keras.layers.Dense(32, activation=\"relu\"),\n",
        "    keras.layers.Dense(3, activation=\"softmax\")  # 3 sentiment classes\n",
        "])\n",
        "\n",
        "# Compile Model\n",
        "model.compile(optimizer=\"adam\", loss=\"sparse_categorical_crossentropy\", metrics=[\"accuracy\"])\n",
        "\n",
        "# Train the Model\n",
        "model.fit(X_train, y_train, epochs=10, batch_size=32, verbose=1)\n",
        "\n",
        "# Save Model\n",
        "model.save(\"/content/sentiment_model.h5\")\n",
        "\n",
        "# Load the trained model\n",
        "model = keras.models.load_model(\"/content/sentiment_model.h5\")\n",
        "\n",
        "# Define UDF for Prediction\n",
        "def predict_sentiment(features):\n",
        "    features = np.array(features).astype(np.float32).reshape(1, -1)\n",
        "    prediction = model.predict(features, verbose=0)\n",
        "    return float(np.argmax(prediction))\n",
        "\n",
        "predict_udf = udf(predict_sentiment, DoubleType())\n",
        "val_df = val_df.limit(100)\n",
        "\n",
        "# Apply Prediction to Validation Set\n",
        "predictions = val_df.withColumn(\"prediction\", predict_udf(col(\"word2vec_features\")))\n",
        "\n",
        "# Evaluate Accuracy\n",
        "evaluator = MulticlassClassificationEvaluator(\n",
        "    labelCol=\"indexedLabel\",\n",
        "    predictionCol=\"prediction\",\n",
        "    metricName=\"accuracy\"\n",
        ")\n",
        "\n",
        "accuracy = evaluator.evaluate(predictions)\n",
        "print(f\"Validation Accuracy: {accuracy:.4f}\")"
      ]
    },
    {
      "cell_type": "code",
      "source": [
        "test_df = spark.read.csv(\"/content/drive/MyDrive/DrugReview/drug_review_test.csv\",\n",
        "                          header=True, inferSchema=True, multiLine=True, escape='\"')\n",
        "# Select relevant columns\n",
        "test_df = test_df.select('rating', 'review')\n",
        "\n",
        "# Remove special characters\n",
        "test_df=test_df.withColumn('review', regexp_replace('review', '[^a-zA-Z0-9\\s]', ''))\n",
        "# Define sentiment labels based on rating\n",
        "def sentiment_label(rating):\n",
        "    if rating > 8:\n",
        "        return 2  # Positive\n",
        "    elif rating < 4:\n",
        "        return 0  # Negative\n",
        "    else:\n",
        "        return 1  # Neutral\n",
        "\n",
        "sentiment_udf = udf(sentiment_label, IntegerType())\n",
        "test_df = test_df.withColumn(\"label\", sentiment_udf(col(\"rating\")))\n",
        "test_df = pipeline_model.transform(test_df)\n",
        "test_pandas = test_df.select(\"word2vec_features\", \"indexedLabel\").toPandas()\n",
        "X_train = np.array([x for x in test_pandas[\"word2vec_features\"]])\n",
        "y_train = test_pandas[\"indexedLabel\"].values\n",
        "predictions = model.predict(X_train, verbose=0)\n",
        "predictions = np.argmax(predictions, axis=1)\n",
        "accuracy = np.mean(predictions == y_train)\n",
        "print(f\"Test Accuracy: {accuracy:.4f}\")\n"
      ],
      "metadata": {
        "colab": {
          "base_uri": "https://localhost:8080/"
        },
        "id": "smtvxRJIOJrT",
        "outputId": "cd5f0345-f940-429c-de67-8df1d0ebca87"
      },
      "execution_count": 4,
      "outputs": [
        {
          "output_type": "stream",
          "name": "stdout",
          "text": [
            "Test Accuracy: 0.6454\n"
          ]
        }
      ]
    },
    {
      "cell_type": "code",
      "source": [
        "# Import necessary libraries\n",
        "import tensorflow as tf\n",
        "\n",
        "# Disable GPU\n",
        "from pyspark.sql import SparkSession\n",
        "from pyspark.ml.feature import StopWordsRemover, HashingTF, IDF, RegexTokenizer, StringIndexer\n",
        "from pyspark.ml import Pipeline, PipelineModel\n",
        "from pyspark.sql.functions import col, udf\n",
        "from pyspark.sql.types import IntegerType, StringType, ArrayType, DoubleType\n",
        "from pyspark.sql.functions import regexp_replace\n",
        "from nltk.stem import WordNetLemmatizer\n",
        "import nltk\n",
        "import numpy as np\n",
        "from pyspark.ml.util import DefaultParamsWritable, DefaultParamsReadable\n",
        "from pyspark.ml.param.shared import HasInputCol, HasOutputCol\n",
        "\n",
        "from tensorflow import keras\n",
        "from pyspark.ml.evaluation import MulticlassClassificationEvaluator\n",
        "\n",
        "# Download NLTK data\n",
        "nltk.download('wordnet')\n",
        "nltk.download('omw-1.4')\n",
        "nltk.download('stopwords')\n",
        "\n",
        "# Initialize Spark session\n",
        "spark = SparkSession.builder.appName(\"SentimentAnalysis\").getOrCreate()\n",
        "\n",
        "# Load dataset\n",
        "df = spark.read.csv(\"/content/drive/MyDrive/DrugReview/drug_review_train.csv\",\n",
        "                    header=True, inferSchema=True, multiLine=True, escape='\"')\n",
        "\n",
        "# Select relevant columns\n",
        "df = df.select('rating', 'review')\n",
        "\n",
        "# Remove special characters\n",
        "df = df.withColumn('review', regexp_replace('review', '[^a-zA-Z0-9\\\\s]', ''))\n",
        "\n",
        "# Tokenization\n",
        "tokenizer = RegexTokenizer(inputCol=\"review\", outputCol=\"tokenized_words\", pattern=\"\\\\W\")\n",
        "\n",
        "# Define sentiment labels based on rating\n",
        "def sentiment_label(rating):\n",
        "    if rating > 8:\n",
        "        return 2  # Positive\n",
        "    elif rating < 4:\n",
        "        return 0  # Negative\n",
        "    else:\n",
        "        return 1  # Neutral\n",
        "\n",
        "sentiment_udf = udf(sentiment_label, IntegerType())\n",
        "df = df.withColumn(\"label\", sentiment_udf(col(\"rating\")))\n",
        "\n",
        "# Stop words removal\n",
        "stopwords_remover = StopWordsRemover(inputCol=\"tokenized_words\", outputCol=\"filtered_words\")\n",
        "\n",
        "# Lemmatization\n",
        "def lemmatizer(text):\n",
        "    lemmatizer = WordNetLemmatizer()\n",
        "    return [lemmatizer.lemmatize(token) for token in text]\n",
        "\n",
        "lemmatize_udf = udf(lemmatizer, ArrayType(StringType()))\n",
        "\n",
        "class LemmatizerTransformer(Transformer, HasInputCol, HasOutputCol, DefaultParamsWritable, DefaultParamsReadable):\n",
        "    def __init__(self, inputCol=\"filtered_words\", outputCol=\"lemmatized_words\"):\n",
        "        super(LemmatizerTransformer, self).__init__()\n",
        "        self._setDefault(inputCol=inputCol, outputCol=outputCol)  # Set default using _setDefault\n",
        "        self.inputCol = inputCol\n",
        "        self.outputCol = outputCol\n",
        "\n",
        "    def _transform(self, dataset):\n",
        "        return dataset.withColumn(self.outputCol, lemmatize_udf(col(self.inputCol)))\n",
        "\n",
        "lemmatizer_transformer = LemmatizerTransformer(inputCol=\"filtered_words\", outputCol=\"lemmatized_words\")\n",
        "\n",
        "# Feature extraction (TF-IDF)\n",
        "hashingTF = HashingTF(inputCol=\"lemmatized_words\", outputCol=\"raw_tf_features\", numFeatures=2000)\n",
        "idf = IDF(inputCol=\"raw_tf_features\", outputCol=\"tfidf_features\")\n",
        "\n",
        "# Convert label column to numerical index\n",
        "indexer = StringIndexer(inputCol=\"label\", outputCol=\"indexedLabel\")\n",
        "\n",
        "# Split data into training and validation sets\n",
        "train_df, val_df = df.randomSplit([0.8, 0.2], seed=42)\n",
        "\n",
        "# Define the pipeline\n",
        "pipeline = Pipeline(stages=[tokenizer, stopwords_remover, lemmatizer_transformer, hashingTF, idf, indexer])\n",
        "\n",
        "# Train the pipeline\n",
        "pipeline_model = pipeline.fit(train_df)\n",
        "\n",
        "# Transform the training and validation sets\n",
        "train_df = pipeline_model.transform(train_df)\n",
        "val_df = pipeline_model.transform(val_df)\n",
        "\n",
        "# Convert Spark DataFrame to Pandas for Neural Network Training\n",
        "train_pandas = train_df.select(\"tfidf_features\", \"indexedLabel\").toPandas()\n",
        "X_train = np.array([x.toArray() for x in train_pandas[\"tfidf_features\"]])\n",
        "y_train = train_pandas[\"indexedLabel\"].values\n",
        "\n",
        "# Define Neural Network Model\n",
        "model = keras.Sequential([\n",
        "    keras.layers.Dense(128, activation=\"relu\", input_shape=(2000,)),\n",
        "    keras.layers.Dense(64, activation=\"relu\"),\n",
        "    keras.layers.Dense(32, activation=\"relu\"),\n",
        "    keras.layers.Dense(3, activation=\"softmax\")  # 3 sentiment classes\n",
        "])\n",
        "\n",
        "# Compile Model\n",
        "model.compile(optimizer=\"adam\", loss=\"sparse_categorical_crossentropy\", metrics=[\"accuracy\"])\n",
        "\n",
        "# Train the Model\n",
        "model.fit(X_train, y_train, epochs=10, batch_size=32, verbose=1)\n",
        "\n",
        "# Save Model\n",
        "model.save(\"/content/sentiment_model.h5\")\n",
        "\n",
        "# Load the trained model\n",
        "model = keras.models.load_model(\"/content/sentiment_model.h5\")\n",
        "\n",
        "# Define UDF for Prediction\n",
        "def predict_sentiment(features):\n",
        "    features = np.array(features.toArray()).astype(np.float32).reshape(1, -1)\n",
        "    prediction = model.predict(features, verbose=0)\n",
        "    return float(np.argmax(prediction))\n",
        "\n",
        "predict_udf = udf(predict_sentiment, DoubleType())\n",
        "\n",
        "# Apply Prediction to Validation Set\n",
        "predictions = val_df.withColumn(\"prediction\", predict_udf(col(\"tfidf_features\")))\n",
        "\n",
        "# Evaluate Accuracy\n",
        "evaluator = MulticlassClassificationEvaluator(\n",
        "    labelCol=\"indexedLabel\",\n",
        "    predictionCol=\"prediction\",\n",
        "    metricName=\"accuracy\"\n",
        ")\n",
        "\n",
        "accuracy = evaluator.evaluate(predictions)\n",
        "print(f\"Validation Accuracy: {accuracy:.4f}\")\n",
        "\n",
        "# Save the pipeline model\n",
        "pipeline_model.write().overwrite().save(\"/content/spark_pipeline_model\")"
      ],
      "metadata": {
        "id": "RiEQhKMdODnz",
        "colab": {
          "base_uri": "https://localhost:8080/"
        },
        "outputId": "d41eca44-cdae-4027-98bb-a8ef633324af"
      },
      "execution_count": 6,
      "outputs": [
        {
          "output_type": "stream",
          "name": "stderr",
          "text": [
            "[nltk_data] Downloading package wordnet to /root/nltk_data...\n",
            "[nltk_data]   Package wordnet is already up-to-date!\n",
            "[nltk_data] Downloading package omw-1.4 to /root/nltk_data...\n",
            "[nltk_data]   Package omw-1.4 is already up-to-date!\n",
            "[nltk_data] Downloading package stopwords to /root/nltk_data...\n",
            "[nltk_data]   Package stopwords is already up-to-date!\n",
            "/usr/local/lib/python3.11/dist-packages/keras/src/layers/core/dense.py:87: UserWarning: Do not pass an `input_shape`/`input_dim` argument to a layer. When using Sequential models, prefer using an `Input(shape)` object as the first layer in the model instead.\n",
            "  super().__init__(activity_regularizer=activity_regularizer, **kwargs)\n"
          ]
        },
        {
          "output_type": "stream",
          "name": "stdout",
          "text": [
            "Epoch 1/10\n",
            "\u001b[1m2766/2766\u001b[0m \u001b[32m━━━━━━━━━━━━━━━━━━━━\u001b[0m\u001b[37m\u001b[0m \u001b[1m11s\u001b[0m 3ms/step - accuracy: 0.5965 - loss: 0.8735\n",
            "Epoch 2/10\n",
            "\u001b[1m2766/2766\u001b[0m \u001b[32m━━━━━━━━━━━━━━━━━━━━\u001b[0m\u001b[37m\u001b[0m \u001b[1m8s\u001b[0m 3ms/step - accuracy: 0.7228 - loss: 0.6439\n",
            "Epoch 3/10\n",
            "\u001b[1m2766/2766\u001b[0m \u001b[32m━━━━━━━━━━━━━━━━━━━━\u001b[0m\u001b[37m\u001b[0m \u001b[1m9s\u001b[0m 3ms/step - accuracy: 0.8322 - loss: 0.4226\n",
            "Epoch 4/10\n",
            "\u001b[1m2766/2766\u001b[0m \u001b[32m━━━━━━━━━━━━━━━━━━━━\u001b[0m\u001b[37m\u001b[0m \u001b[1m8s\u001b[0m 3ms/step - accuracy: 0.9080 - loss: 0.2511\n",
            "Epoch 5/10\n",
            "\u001b[1m2766/2766\u001b[0m \u001b[32m━━━━━━━━━━━━━━━━━━━━\u001b[0m\u001b[37m\u001b[0m \u001b[1m7s\u001b[0m 3ms/step - accuracy: 0.9472 - loss: 0.1490\n",
            "Epoch 6/10\n",
            "\u001b[1m2766/2766\u001b[0m \u001b[32m━━━━━━━━━━━━━━━━━━━━\u001b[0m\u001b[37m\u001b[0m \u001b[1m10s\u001b[0m 2ms/step - accuracy: 0.9648 - loss: 0.1060\n",
            "Epoch 7/10\n",
            "\u001b[1m2766/2766\u001b[0m \u001b[32m━━━━━━━━━━━━━━━━━━━━\u001b[0m\u001b[37m\u001b[0m \u001b[1m8s\u001b[0m 3ms/step - accuracy: 0.9727 - loss: 0.0807\n",
            "Epoch 8/10\n",
            "\u001b[1m2766/2766\u001b[0m \u001b[32m━━━━━━━━━━━━━━━━━━━━\u001b[0m\u001b[37m\u001b[0m \u001b[1m10s\u001b[0m 3ms/step - accuracy: 0.9776 - loss: 0.0651\n",
            "Epoch 9/10\n",
            "\u001b[1m2766/2766\u001b[0m \u001b[32m━━━━━━━━━━━━━━━━━━━━\u001b[0m\u001b[37m\u001b[0m \u001b[1m10s\u001b[0m 3ms/step - accuracy: 0.9815 - loss: 0.0565\n",
            "Epoch 10/10\n",
            "\u001b[1m2766/2766\u001b[0m \u001b[32m━━━━━━━━━━━━━━━━━━━━\u001b[0m\u001b[37m\u001b[0m \u001b[1m10s\u001b[0m 3ms/step - accuracy: 0.9829 - loss: 0.0487\n"
          ]
        },
        {
          "output_type": "stream",
          "name": "stderr",
          "text": [
            "WARNING:absl:You are saving your model as an HDF5 file via `model.save()` or `keras.saving.save_model(model)`. This file format is considered legacy. We recommend using instead the native Keras format, e.g. `model.save('my_model.keras')` or `keras.saving.save_model(model, 'my_model.keras')`. \n",
            "WARNING:absl:Compiled the loaded model, but the compiled metrics have yet to be built. `model.compile_metrics` will be empty until you train or evaluate the model.\n"
          ]
        },
        {
          "output_type": "stream",
          "name": "stdout",
          "text": [
            "Validation Accuracy: 0.7242\n"
          ]
        }
      ]
    },
    {
      "cell_type": "code",
      "source": [
        "# Load the test dataset\n",
        "test_df = spark.read.csv(\"/content/drive/MyDrive/DrugReview/drug_review_test.csv\",\n",
        "                         header=True, inferSchema=True, multiLine=True, escape='\"')\n",
        "\n",
        "# Select relevant columns\n",
        "test_df = test_df.select('rating', 'review')\n",
        "\n",
        "# Remove special characters\n",
        "test_df = test_df.withColumn('review', regexp_replace('review', '[^a-zA-Z0-9\\\\s]', ''))\n",
        "\n",
        "# Define sentiment labels based on rating\n",
        "def sentiment_label(rating):\n",
        "    if rating > 8:\n",
        "        return 2  # Positive\n",
        "    elif rating < 4:\n",
        "        return 0  # Negative\n",
        "    else:\n",
        "        return 1  # Neutral\n",
        "\n",
        "# Apply sentiment labeling to the test dataset\n",
        "sentiment_udf = udf(sentiment_label, IntegerType())\n",
        "test_df = test_df.withColumn(\"label\", sentiment_udf(col(\"rating\")))\n",
        "\n",
        "# Apply the same pipeline transformations to the test dataset\n",
        "test_df = pipeline_model.transform(test_df)\n",
        "\n",
        "# Convert Spark DataFrame to Pandas for Neural Network Prediction\n",
        "test_pandas = test_df.select(\"tfidf_features\", \"indexedLabel\").toPandas()\n",
        "X_test = np.array([x.toArray() for x in test_pandas[\"tfidf_features\"]])  # Convert TF-IDF features to numpy array\n",
        "y_test = test_pandas[\"indexedLabel\"].values  # True labels for evaluation\n",
        "\n",
        "# Predict using the trained model\n",
        "predictions = model.predict(X_test, verbose=0)\n",
        "predictions = np.argmax(predictions, axis=1)  # Convert probabilities to class labels\n",
        "\n",
        "# Calculate accuracy\n",
        "accuracy = np.mean(predictions == y_test)\n",
        "print(f\"Test Accuracy: {accuracy:.4f}\")"
      ],
      "metadata": {
        "colab": {
          "base_uri": "https://localhost:8080/"
        },
        "id": "YjV71si6Npak",
        "outputId": "6f94db35-1172-4f6a-c1c7-bfe0db876a2e"
      },
      "execution_count": 10,
      "outputs": [
        {
          "output_type": "stream",
          "name": "stdout",
          "text": [
            "Test Accuracy: 0.7199\n"
          ]
        }
      ]
    }
  ],
  "metadata": {
    "colab": {
      "provenance": [],
      "gpuType": "T4",
      "authorship_tag": "ABX9TyNurecXDS9lcFq6T5hOLHWq",
      "include_colab_link": true
    },
    "kernelspec": {
      "display_name": "Python 3",
      "name": "python3"
    },
    "language_info": {
      "name": "python"
    },
    "accelerator": "GPU"
  },
  "nbformat": 4,
  "nbformat_minor": 0
}